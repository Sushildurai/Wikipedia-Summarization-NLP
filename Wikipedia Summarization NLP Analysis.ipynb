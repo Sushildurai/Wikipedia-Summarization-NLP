{
 "cells": [
  {
   "cell_type": "code",
   "execution_count": 1,
   "metadata": {},
   "outputs": [],
   "source": [
    " from bs4 import BeautifulSoup"
   ]
  },
  {
   "cell_type": "code",
   "execution_count": 2,
   "metadata": {},
   "outputs": [],
   "source": [
    "import urllib.request\n",
    "import re\n",
    "import lxml"
   ]
  },
  {
   "cell_type": "code",
   "execution_count": 3,
   "metadata": {},
   "outputs": [],
   "source": [
    "import nltk"
   ]
  },
  {
   "cell_type": "code",
   "execution_count": 4,
   "metadata": {},
   "outputs": [],
   "source": [
    "import bs4 as bs"
   ]
  },
  {
   "cell_type": "code",
   "execution_count": 100,
   "metadata": {},
   "outputs": [],
   "source": [
    "scrapped_data =urllib.request.urlopen('https://en.wikipedia.org/wiki/Baahubali:_The_Beginning')\n",
    "article = scrapped_data.read()"
   ]
  },
  {
   "cell_type": "code",
   "execution_count": 101,
   "metadata": {},
   "outputs": [],
   "source": [
    "parsed_article = bs.BeautifulSoup(article,'lxml')"
   ]
  },
  {
   "cell_type": "code",
   "execution_count": 102,
   "metadata": {},
   "outputs": [],
   "source": [
    "paragraphs = parsed_article.find_all('p')"
   ]
  },
  {
   "cell_type": "code",
   "execution_count": 103,
   "metadata": {},
   "outputs": [],
   "source": [
    "article_text = \"\""
   ]
  },
  {
   "cell_type": "code",
   "execution_count": 104,
   "metadata": {},
   "outputs": [],
   "source": [
    "for p in paragraphs:\n",
    "    article_text+=p.text"
   ]
  },
  {
   "cell_type": "code",
   "execution_count": 105,
   "metadata": {},
   "outputs": [],
   "source": [
    "# preprocessing data:"
   ]
  },
  {
   "cell_type": "code",
   "execution_count": 106,
   "metadata": {},
   "outputs": [],
   "source": [
    "article_text = re.sub(r'\\[[0-9]*\\]', ' ',article_text) \n",
    "# removes the references in wiki which are in [] brackets.\n",
    "\n",
    "article_text = re.sub(r'\\s+', ' ', article_text) # \\s is Non-white spaces"
   ]
  },
  {
   "cell_type": "code",
   "execution_count": 107,
   "metadata": {},
   "outputs": [],
   "source": [
    "# removing special chars and digits:\n",
    "formatted_article_text = re.sub(r'[^a-zA-Z]',' ',article_text) # removes fullstops(.)..and etc\n",
    "formatted_article_text = re.sub(r'\\s+',' ',formatted_article_text) "
   ]
  },
  {
   "cell_type": "code",
   "execution_count": 108,
   "metadata": {},
   "outputs": [],
   "source": [
    "# Sentence tokenization using orig article_text since it contains fullstops and other stuff..\n",
    "sentence_list = nltk.sent_tokenize(article_text)"
   ]
  },
  {
   "cell_type": "markdown",
   "metadata": {},
   "source": [
    "find weighted frequency of occurrence (now use the FORMATTED ARTICLE) "
   ]
  },
  {
   "cell_type": "code",
   "execution_count": 109,
   "metadata": {},
   "outputs": [],
   "source": [
    "stopwords = nltk.corpus.stopwords.words('english')"
   ]
  },
  {
   "cell_type": "code",
   "execution_count": 110,
   "metadata": {},
   "outputs": [],
   "source": [
    "word_frequencies = {}\n",
    "for word in nltk.word_tokenize(formatted_article_text):\n",
    "    if word not in stopwords:\n",
    "        if word not in word_frequencies.keys():\n",
    "            word_frequencies[word] = 1\n",
    "        else:\n",
    "            word_frequencies[word]+=1"
   ]
  },
  {
   "cell_type": "code",
   "execution_count": 111,
   "metadata": {},
   "outputs": [],
   "source": [
    "# to get weighted frequency\n",
    "maximum_frequency = max(word_frequencies.values())"
   ]
  },
  {
   "cell_type": "code",
   "execution_count": 112,
   "metadata": {},
   "outputs": [],
   "source": [
    "for word in word_frequencies:\n",
    "    word_frequencies[word] = (word_frequencies[word]/maximum_frequency)"
   ]
  },
  {
   "cell_type": "code",
   "execution_count": 120,
   "metadata": {},
   "outputs": [
    {
     "name": "stdout",
     "output_type": "stream",
     "text": [
      "min:  A\n",
      "max:  young\n"
     ]
    }
   ],
   "source": [
    "print('min: ',min(word_frequencies.keys()))\n",
    "print('max: ',max(word_frequencies.keys()))"
   ]
  },
  {
   "cell_type": "markdown",
   "metadata": {},
   "source": [
    "Calculate sentence score:"
   ]
  },
  {
   "cell_type": "code",
   "execution_count": 115,
   "metadata": {},
   "outputs": [],
   "source": [
    "sentence_score = {}\n",
    "for sent in sentence_list: # sentence by sentence\n",
    "    for word in nltk.word_tokenize(sent):  # each word in a sentence\n",
    "        if word in word_frequencies.keys(): # word in word_frequencies\n",
    "            if len(sent.split(' ')) < 30:   # no. of words in sentence <30\n",
    "                if sent not in sentence_score.keys(): \n",
    "                    sentence_score[sent] = word_frequencies[word] \n",
    "                else:\n",
    "                    sentence_score[sent] += word_frequencies[word]"
   ]
  },
  {
   "cell_type": "markdown",
   "metadata": {},
   "source": [
    "Getting the Summary"
   ]
  },
  {
   "cell_type": "code",
   "execution_count": 116,
   "metadata": {},
   "outputs": [],
   "source": [
    "import heapq"
   ]
  },
  {
   "cell_type": "code",
   "execution_count": 117,
   "metadata": {},
   "outputs": [],
   "source": [
    "# top 7 sentences printed.\n",
    "summary_sentences = heapq.nlargest(7, sentence_score, key=sentence_score.get)  "
   ]
  },
  {
   "cell_type": "code",
   "execution_count": 118,
   "metadata": {},
   "outputs": [
    {
     "data": {
      "text/plain": [
       "['The film was made on a budget of ₹180 crore (US$25 million), making it the most expensive Indian film at its time of release.',\n",
       " 'Baahubali: The Beginning became the first Indian film to be nominated for Saturn Awards, receiving five nominations at the 42nd ceremony, including Best Fantasy Film and Best Supporting Actress.',\n",
       " 'At the 63rd National Film Awards, Baahubali: The Beginning won the Best Feature Film, becoming the first Telugu film to win the award, and Best Special Effects.',\n",
       " 'The film boasts of one year pre-production work wherein 15,000 storyboard sketches for the film were created—the highest for any Indian Film as of this date.',\n",
       " \"The crown used by the character of Baahubali in the film was exhibited at Comic Con, Hyderabad, as a part of the film's promotion.\",\n",
       " 'The film collected around ₹200 million (US$2.8 million) in its first day from the international markets.',\n",
       " 'The film grossed around ₹2.55 billion (US$36 million) worldwide in the first week of its release.']"
      ]
     },
     "execution_count": 118,
     "metadata": {},
     "output_type": "execute_result"
    }
   ],
   "source": [
    "summary_sentences"
   ]
  },
  {
   "cell_type": "code",
   "execution_count": null,
   "metadata": {},
   "outputs": [],
   "source": []
  }
 ],
 "metadata": {
  "kernelspec": {
   "display_name": "Python 3",
   "language": "python",
   "name": "python3"
  },
  "language_info": {
   "codemirror_mode": {
    "name": "ipython",
    "version": 3
   },
   "file_extension": ".py",
   "mimetype": "text/x-python",
   "name": "python",
   "nbconvert_exporter": "python",
   "pygments_lexer": "ipython3",
   "version": "3.7.3"
  }
 },
 "nbformat": 4,
 "nbformat_minor": 2
}
